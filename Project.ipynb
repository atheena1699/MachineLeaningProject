{
 "cells": [
  {
   "cell_type": "code",
   "execution_count": null,
   "metadata": {
    "ExecuteTime": {
     "start_time": "2018-09-01T14:54:08.954Z"
    }
   },
   "outputs": [],
   "source": [
    "import csv\n",
    "from collections import defaultdict\n",
    "from tqdm import tqdm\n",
    "from random import sample,shuffle\n",
    "import random\n",
    "from sklearn.linear_model import LogisticRegression as LR\n",
    "from sklearn.metrics import confusion_matrix\n",
    "from sklearn import metrics\n",
    "from sklearn import model_selection\n",
    "from sklearn import feature_selection\n",
    "from sklearn import preprocessing\n",
    "from sklearn.pipeline import Pipeline\n",
    "from sklearn import pipeline\n",
    "from sklearn import feature_extraction\n",
    "from sklearn.tree import DecisionTreeClassifier as DTC\n",
    "import numpy as np\n",
    "import matplotlib.pyplot as plt\n",
    "from numpy import dot\n",
    "from numpy.linalg import norm\n",
    "from sklearn.model_selection import learning_curve\n",
    "\n",
    "\n",
    "import pandas"
   ]
  },
  {
   "cell_type": "code",
   "execution_count": 2,
   "metadata": {
    "ExecuteTime": {
     "end_time": "2018-09-01T13:55:32.022262Z",
     "start_time": "2018-09-01T13:55:21.063474Z"
    }
   },
   "outputs": [
    {
     "name": "stderr",
     "output_type": "stream",
     "text": [
      "100%|██████████| 20000/20000 [00:10<00:00, 1826.24it/s]\n"
     ]
    }
   ],
   "source": [
    "# Read in list of edges from csv\n",
    "def load_csv(fname=\"train.txt\"):\n",
    "    with open(fname) as file:\n",
    "        edges = []\n",
    "        reader = csv.reader(file, delimiter=\"\\t\")\n",
    "        for row in tqdm(reader, total=20000):\n",
    "            row = [int(el) for el in row]\n",
    "            source = row[0]\n",
    "            sinks = row[1:]\n",
    "            edges += [(source, sink) for sink in sinks]\n",
    "\n",
    "        return edges\n",
    "\n",
    "edges = load_csv()"
   ]
  },
  {
   "cell_type": "code",
   "execution_count": 3,
   "metadata": {
    "ExecuteTime": {
     "end_time": "2018-09-01T13:55:43.996704Z",
     "start_time": "2018-09-01T13:55:32.024689Z"
    }
   },
   "outputs": [],
   "source": [
    "# Set aside some edges for validation\n",
    "edges_train, edges_val = model_selection.train_test_split(edges)"
   ]
  },
  {
   "cell_type": "code",
   "execution_count": 4,
   "metadata": {
    "ExecuteTime": {
     "end_time": "2018-09-01T13:59:12.690098Z",
     "start_time": "2018-09-01T13:55:43.999000Z"
    }
   },
   "outputs": [
    {
     "name": "stderr",
     "output_type": "stream",
     "text": [
      "100%|██████████| 24004361/24004361 [02:04<00:00, 193338.46it/s]\n",
      "100%|██████████| 18003270/18003270 [01:24<00:00, 212998.66it/s]\n"
     ]
    }
   ],
   "source": [
    "# Process a list of edges in to some other useable data\n",
    "# following is a dictionary of source: # of users source if following\n",
    "# followers is a dictionary of sink: # of users following sink\n",
    "# nodes is a dictionary of source: list of sinks\n",
    "def process(edges):\n",
    "    following = {}\n",
    "    followers = {}\n",
    "    nodes = {}\n",
    "    nodes_r = {}\n",
    "    for (source, sink) in tqdm(edges):\n",
    "        following.setdefault(source, 0)\n",
    "        following[source] += 1\n",
    "        followers.setdefault(sink, 0)\n",
    "        followers[sink] += 1\n",
    "        nodes.setdefault(source, set())\n",
    "        nodes[source].add(sink)\n",
    "        nodes_r.setdefault(sink, set())\n",
    "        nodes_r[sink].add(source)\n",
    "    return following, followers, nodes, nodes_r\n",
    "\n",
    "\n",
    "following, followers, nodes, nodes_r = process(edges)\n",
    "following_train, followers_train, nodes_train, nodes_r_train = process(edges_train)"
   ]
  },
  {
   "cell_type": "code",
   "execution_count": 5,
   "metadata": {
    "ExecuteTime": {
     "end_time": "2018-09-01T13:59:12.697318Z",
     "start_time": "2018-09-01T13:59:12.693086Z"
    }
   },
   "outputs": [],
   "source": [
    "# Get the correct y value for a data point\n",
    "def get_y(source, sink):\n",
    "    return 1 if source in nodes and sink in nodes[source] else 0"
   ]
  },
  {
   "cell_type": "code",
   "execution_count": 6,
   "metadata": {
    "ExecuteTime": {
     "end_time": "2018-09-01T13:59:12.717416Z",
     "start_time": "2018-09-01T13:59:12.700263Z"
    }
   },
   "outputs": [],
   "source": [
    "def friend_is_following(source, sink):\n",
    "    for friend in nodes_train.get(source, []):\n",
    "        if sink in nodes_train.get(friend, []):\n",
    "            return 1\n",
    "    return 0\n",
    "\n",
    "def friends_following(source, sink):\n",
    "    return sum(1 for friend in nodes_train.get(source, []) if sink in nodes_train.get(friend, []))\n",
    "\n",
    "def jaccard(a, b):\n",
    "    a = set(a)\n",
    "    b = set(b)\n",
    "    if len(a) == 0 and len(b) == 0:\n",
    "        return 0.0\n",
    "    return 100.0 * len(a.intersection(b)) / len(a.union(b))\n",
    "\n",
    "def cosine(a, b):\n",
    "    a = set(a)\n",
    "    b = set(b)\n",
    "    union = a.union(b)\n",
    "    union = list(union)\n",
    "    if len(a) == 0 or len(b) == 0:\n",
    "        return 0.0\n",
    "    a = [1 if i in a else 0 for i in union]\n",
    "    b = [1 if i in b else 0 for i in union]\n",
    "    cos = dot(a, b) / (norm(a) * norm(b))\n",
    "#     if np.isnan(cos):\n",
    "#         print(\"ahh\")\n",
    "#         print(dot(a, b))\n",
    "#         print(norm(a))\n",
    "#         print(norm(b))\n",
    "#         print(norm(a) * norm(b))\n",
    "#         1/0\n",
    "    return cos"
   ]
  },
  {
   "cell_type": "code",
   "execution_count": 7,
   "metadata": {
    "ExecuteTime": {
     "end_time": "2018-09-01T13:59:12.740556Z",
     "start_time": "2018-09-01T13:59:12.719474Z"
    }
   },
   "outputs": [],
   "source": [
    "# Encode the training \"X\" data and \"y\" value of a data point (edge)\n",
    "def make_row(source, sink):\n",
    "    n_following = following_train.get(source, 0)\n",
    "    n_followers = followers_train.get(sink, 0)\n",
    "    follows_back = 1 if source in nodes_train.get(sink, []) else 0\n",
    "    n_friends_following = friends_following(source, sink)\n",
    "#     friend_following = friend_is_following(source, sink)\n",
    "    cos_f = cosine(nodes_train.get(source, []), nodes_train.get(sink, []))\n",
    "\n",
    "    \n",
    "    return {\n",
    "        \"n_following\": n_following,\n",
    "        \"n_followers\": n_followers,\n",
    "        \"less_followers\": 1 if n_following > n_followers else 0,\n",
    "        \"follows_back\": follows_back,\n",
    "        \"n_friends_following\": n_friends_following,\n",
    "        \"jaccard_following\": jaccard(nodes_train.get(source, []), nodes_train.get(sink, [])),\n",
    "        \"jaccard_followers\": jaccard(nodes_r_train.get(source, []), nodes_r_train.get(sink, [])),\n",
    "        \"jaccard_forward\": jaccard(nodes_train.get(source, []), nodes_r_train.get(sink, [])),\n",
    "        \"jaccard_backward\": jaccard(nodes_r_train.get(source, []), nodes_train.get(sink, [])),\n",
    "        \"cosine_following\": cos_f,\n",
    "        \"cosine_followers\": cosine(nodes_r_train.get(source, []), nodes_r_train.get(sink, [])),\n",
    "        \"cosine_forward\": cosine(nodes_train.get(source, []), nodes_r_train.get(sink, [])),\n",
    "        \"cosine_backward\": cosine(nodes_r_train.get(source, []), nodes_train.get(sink, [])),\n",
    "    }"
   ]
  },
  {
   "cell_type": "code",
   "execution_count": 8,
   "metadata": {
    "ExecuteTime": {
     "end_time": "2018-09-01T13:59:12.764754Z",
     "start_time": "2018-09-01T13:59:12.743035Z"
    },
    "code_folding": []
   },
   "outputs": [],
   "source": [
    "# Given a list of edges, create X and y matrices of features\n",
    "def prep(edges):\n",
    "    X = []\n",
    "    y = []\n",
    "\n",
    "    for (source, sink) in tqdm(edges):\n",
    "        X_row = make_row(source, sink)\n",
    "        X.append(X_row)\n",
    "        y.append(get_y(source, sink))\n",
    "    \n",
    "    return X, y"
   ]
  },
  {
   "cell_type": "code",
   "execution_count": 9,
   "metadata": {
    "ExecuteTime": {
     "end_time": "2018-09-01T13:59:12.781267Z",
     "start_time": "2018-09-01T13:59:12.770004Z"
    }
   },
   "outputs": [],
   "source": [
    "# Randomly generate new edges, based on a set of existing edges\n",
    "def random_edges(edges, n):\n",
    "    return [(random.choice(edges)[0], random.choice(edges)[1]) for i in range(n)]"
   ]
  },
  {
   "cell_type": "code",
   "execution_count": 10,
   "metadata": {
    "ExecuteTime": {
     "end_time": "2018-09-01T14:00:38.166200Z",
     "start_time": "2018-09-01T13:59:12.784014Z"
    }
   },
   "outputs": [
    {
     "name": "stderr",
     "output_type": "stream",
     "text": [
      "100%|██████████| 1000/1000 [01:25<00:00, 11.71it/s]\n"
     ]
    }
   ],
   "source": [
    "# Make our final training data, by sampling from existing edges, and adding in other random edges\n",
    "# We sample a small subset from our training data for computational reasons\n",
    "edges_train_ = sample(edges_train, k=500) + random_edges(edges_train, 500)\n",
    "X_train_basic, y_train= prep(edges_train_)"
   ]
  },
  {
   "cell_type": "code",
   "execution_count": 11,
   "metadata": {
    "ExecuteTime": {
     "end_time": "2018-09-01T14:01:04.611692Z",
     "start_time": "2018-09-01T14:00:38.169692Z"
    }
   },
   "outputs": [
    {
     "name": "stderr",
     "output_type": "stream",
     "text": [
      "100%|██████████| 400/400 [00:26<00:00, 15.14it/s]"
     ]
    },
    {
     "name": "stdout",
     "output_type": "stream",
     "text": [
      "1    548\n",
      "0    452\n",
      "dtype: int64\n",
      "1    212\n",
      "0    188\n",
      "dtype: int64\n"
     ]
    },
    {
     "name": "stderr",
     "output_type": "stream",
     "text": [
      "\n"
     ]
    }
   ],
   "source": [
    "edges_val_ = sample(edges_val, k=200) + random_edges(edges_train, 200)\n",
    "X_val_basic, y_val = prep(edges_val_)\n",
    "\n",
    "# Frequency count to check how unbalanced our classes are\n",
    "print(pandas.Series(y_train).value_counts())\n",
    "print(pandas.Series(y_val).value_counts())"
   ]
  },
  {
   "cell_type": "code",
   "execution_count": 12,
   "metadata": {
    "ExecuteTime": {
     "end_time": "2018-09-01T14:01:04.989262Z",
     "start_time": "2018-09-01T14:01:04.614432Z"
    }
   },
   "outputs": [
    {
     "name": "stderr",
     "output_type": "stream",
     "text": [
      "[Parallel(n_jobs=1)]: Done   1 out of   1 | elapsed:    0.0s remaining:    0.0s\n"
     ]
    },
    {
     "name": "stdout",
     "output_type": "stream",
     "text": [
      "Fitting 3 folds for each of 5 candidates, totalling 15 fits\n",
      "[CV] n_features_to_select=2 ..........................................\n",
      "[CV] ........................... n_features_to_select=2, total=   0.0s\n",
      "[CV] n_features_to_select=2 ..........................................\n",
      "[CV] ........................... n_features_to_select=2, total=   0.0s\n",
      "[CV] n_features_to_select=2 ..........................................\n",
      "[CV] ........................... n_features_to_select=2, total=   0.0s\n",
      "[CV] n_features_to_select=4 ..........................................\n",
      "[CV] ........................... n_features_to_select=4, total=   0.0s\n",
      "[CV] n_features_to_select=4 ..........................................\n",
      "[CV] ........................... n_features_to_select=4, total=   0.0s\n",
      "[CV] n_features_to_select=4 ..........................................\n",
      "[CV] ........................... n_features_to_select=4, total=   0.0s\n",
      "[CV] n_features_to_select=6 ..........................................\n",
      "[CV] ........................... n_features_to_select=6, total=   0.0s\n",
      "[CV] n_features_to_select=6 ..........................................\n",
      "[CV] ........................... n_features_to_select=6, total=   0.0s\n",
      "[CV] n_features_to_select=6 ..........................................\n",
      "[CV] ........................... n_features_to_select=6, total=   0.0s\n",
      "[CV] n_features_to_select=8 ..........................................\n",
      "[CV] ........................... n_features_to_select=8, total=   0.0s\n",
      "[CV] n_features_to_select=8 ..........................................\n",
      "[CV] ........................... n_features_to_select=8, total=   0.0s\n",
      "[CV] n_features_to_select=8 ..........................................\n",
      "[CV] ........................... n_features_to_select=8, total=   0.0s\n",
      "[CV] n_features_to_select=10 .........................................\n",
      "[CV] .......................... n_features_to_select=10, total=   0.0s\n",
      "[CV] n_features_to_select=10 .........................................\n",
      "[CV] .......................... n_features_to_select=10, total=   0.0s\n",
      "[CV] n_features_to_select=10 .........................................\n",
      "[CV] .......................... n_features_to_select=10, total=   0.0s\n"
     ]
    },
    {
     "name": "stderr",
     "output_type": "stream",
     "text": [
      "[Parallel(n_jobs=1)]: Done  15 out of  15 | elapsed:    0.3s finished\n"
     ]
    }
   ],
   "source": [
    "def inv(X):\n",
    "    return np.hstack([X, 1 / (X + 1), X==0, ])\n",
    "\n",
    "search_params = range(2, 12, 2)\n",
    "\n",
    "model = Pipeline([\n",
    "    ('vec', feature_extraction.DictVectorizer(sparse=False)),\n",
    "    ('norm', preprocessing.StandardScaler()),\n",
    "#     ('inv', preprocessing.FunctionTransformer(inv)),\n",
    "#     ('poly', preprocessing.PolynomialFeatures()),\n",
    "#     ('feats', feature_selection.SelectKBest(k=4)),\n",
    "#     ('model', model_selection.GridSearchCV(feature_selection.RFE(LR()), [{\"n_features_to_select\": search_params}], verbose=2))\n",
    "    ('feats', feature_selection.RFE(LR(), n_features_to_select=10)),\n",
    "])\n",
    "\n",
    "# model.fit(X_train_basic, y_train)\n",
    "\n",
    "s = model.named_steps\n",
    "# names = s['vec'].get_feature_names()\n",
    "# names = names + [\"1/(\" + name + \")\" for name in names] + [name + \" == 0\" for name in names]\n",
    "# names = s['poly'].get_feature_names(names)"
   ]
  },
  {
   "cell_type": "code",
   "execution_count": 13,
   "metadata": {
    "ExecuteTime": {
     "end_time": "2018-09-01T14:01:04.996262Z",
     "start_time": "2018-09-01T14:01:04.990954Z"
    }
   },
   "outputs": [],
   "source": [
    "# names = s['vec'].get_feature_names()\n",
    "# # names = names + [\"1/(\" + name + \")\" for name in names] + [name + \" == 0\" for name in names]\n",
    "# names = s['poly'].get_feature_names(names)\n",
    "# list(zip(s['feats'].support_, names))"
   ]
  },
  {
   "cell_type": "code",
   "execution_count": 14,
   "metadata": {
    "ExecuteTime": {
     "end_time": "2018-09-01T14:01:05.253068Z",
     "start_time": "2018-09-01T14:01:04.998993Z"
    }
   },
   "outputs": [
    {
     "name": "stdout",
     "output_type": "stream",
     "text": [
      "range(2, 12, 2)\n",
      "[0.61900373 0.63200776 0.62551623 0.62702073 0.6620288 ]\n",
      "[0.587 0.599 0.622 0.624 0.643]\n"
     ]
    },
    {
     "name": "stderr",
     "output_type": "stream",
     "text": [
      "/usr/lib/python3.6/site-packages/sklearn/utils/deprecation.py:122: FutureWarning: You are accessing a training score ('mean_train_score'), which will not be available by default any more in 0.21. If you need training scores, please set return_train_score=True\n",
      "  warnings.warn(*warn_args, **warn_kwargs)\n"
     ]
    },
    {
     "data": {
      "image/png": "[encoded data removed]",
      "text/plain": [
       "<Figure size 432x288 with 1 Axes>"
      ]
     },
     "metadata": {},
     "output_type": "display_data"
    },
    {
     "ename": "KeyError",
     "evalue": "'poly'",
     "output_type": "error",
     "traceback": [
      "\u001b[0;31m---------------------------------------------------------------------------\u001b[0m",
      "\u001b[0;31mKeyError\u001b[0m                                  Traceback (most recent call last)",
      "\u001b[0;32m<ipython-input-14-9eca9290f433>\u001b[0m in \u001b[0;36m<module>\u001b[0;34m()\u001b[0m\n\u001b[1;32m     11\u001b[0m \u001b[0mnames\u001b[0m \u001b[0;34m=\u001b[0m \u001b[0ms\u001b[0m\u001b[0;34m[\u001b[0m\u001b[0;34m'vec'\u001b[0m\u001b[0;34m]\u001b[0m\u001b[0;34m.\u001b[0m\u001b[0mget_feature_names\u001b[0m\u001b[0;34m(\u001b[0m\u001b[0;34m)\u001b[0m\u001b[0;34m\u001b[0m\u001b[0m\n\u001b[1;32m     12\u001b[0m \u001b[0;31m# names = names + [\"1/(\" + name + \")\" for name in names] + [name + \" == 0\" for name in names]\u001b[0m\u001b[0;34m\u001b[0m\u001b[0;34m\u001b[0m\u001b[0m\n\u001b[0;32m---> 13\u001b[0;31m \u001b[0mnames\u001b[0m \u001b[0;34m=\u001b[0m \u001b[0ms\u001b[0m\u001b[0;34m[\u001b[0m\u001b[0;34m'poly'\u001b[0m\u001b[0;34m]\u001b[0m\u001b[0;34m.\u001b[0m\u001b[0mget_feature_names\u001b[0m\u001b[0;34m(\u001b[0m\u001b[0mnames\u001b[0m\u001b[0;34m)\u001b[0m\u001b[0;34m\u001b[0m\u001b[0m\n\u001b[0m\u001b[1;32m     14\u001b[0m \u001b[0mlist\u001b[0m\u001b[0;34m(\u001b[0m\u001b[0mzip\u001b[0m\u001b[0;34m(\u001b[0m\u001b[0ms\u001b[0m\u001b[0;34m[\u001b[0m\u001b[0;34m'model'\u001b[0m\u001b[0;34m]\u001b[0m\u001b[0;34m.\u001b[0m\u001b[0mbest_estimator_\u001b[0m\u001b[0;34m.\u001b[0m\u001b[0msupport_\u001b[0m\u001b[0;34m,\u001b[0m \u001b[0mnames\u001b[0m\u001b[0;34m)\u001b[0m\u001b[0;34m)\u001b[0m\u001b[0;34m\u001b[0m\u001b[0m\n",
      "\u001b[0;31mKeyError\u001b[0m: 'poly'"
     ]
    }
   ],
   "source": [
    "print(search_params)\n",
    "\n",
    "cv_res = s['model'].cv_results_\n",
    "print(cv_res['mean_train_score'])\n",
    "print(cv_res['mean_test_score'])\n",
    "\n",
    "plt.plot(search_params, cv_res['mean_test_score'], 'b', label='test')\n",
    "plt.plot(search_params, cv_res['mean_train_score'], 'r', label='train')\n",
    "plt.show()\n",
    "\n",
    "names = s['vec'].get_feature_names()\n",
    "# names = names + [\"1/(\" + name + \")\" for name in names] + [name + \" == 0\" for name in names]\n",
    "names = s['poly'].get_feature_names(names)\n",
    "list(zip(s['model'].best_estimator_.support_, names))"
   ]
  },
  {
   "cell_type": "code",
   "execution_count": null,
   "metadata": {
    "ExecuteTime": {
     "end_time": "2018-09-01T14:01:05.254510Z",
     "start_time": "2018-09-01T13:55:19.517Z"
    }
   },
   "outputs": [],
   "source": [
    "# Check how we score against the validation set\n",
    "print(model.score(X_val_basic, y_val))\n",
    "print(metrics.classification_report(model.predict(X_val_basic), y_val))"
   ]
  },
  {
   "cell_type": "code",
   "execution_count": null,
   "metadata": {
    "ExecuteTime": {
     "end_time": "2018-09-01T14:01:05.255874Z",
     "start_time": "2018-09-01T13:55:19.520Z"
    }
   },
   "outputs": [],
   "source": [
    "# Check how many accurate predictions we have for each class\n",
    "print(confusion_matrix(model.predict(X_val_basic), y_val))"
   ]
  },
  {
   "cell_type": "code",
   "execution_count": null,
   "metadata": {
    "ExecuteTime": {
     "end_time": "2018-09-01T14:01:05.257374Z",
     "start_time": "2018-09-01T13:55:19.523Z"
    }
   },
   "outputs": [],
   "source": [
    "# Read in the test data, make predictions with a model, write to a new csv\n",
    "def make_submission(model, file_in=\"test-public.txt\", file_out=\"predictions.csv\"):\n",
    "    edges = []\n",
    "    with open(file_in) as file:\n",
    "        reader = csv.reader(file, delimiter=\"\\t\")\n",
    "        header = True\n",
    "        for row in tqdm(reader):\n",
    "            if header:\n",
    "                header = False\n",
    "                continue\n",
    "            row = [int(el) for el in row]\n",
    "            id, source, sink = row\n",
    "            edges.append(tuple([source, sink]))\n",
    "            \n",
    "    X_test, _ = prep(edges)\n",
    "    y_pred = model.predict_proba(X_test)\n",
    "        \n",
    "    with open(file_out, 'w') as file:\n",
    "        writer = csv.writer(file, delimiter=\",\")\n",
    "        writer.writerow([\"Id\", \"Prediction\"])\n",
    "        for i in range(len(y_pred)):\n",
    "            writer.writerow([i+1, y_pred[i][1]])"
   ]
  },
  {
   "cell_type": "code",
   "execution_count": null,
   "metadata": {
    "ExecuteTime": {
     "end_time": "2018-09-01T14:01:05.258779Z",
     "start_time": "2018-09-01T13:55:19.525Z"
    }
   },
   "outputs": [],
   "source": [
    "make_submission(model)"
   ]
  },
  {
   "cell_type": "code",
   "execution_count": null,
   "metadata": {},
   "outputs": [],
   "source": []
  }
 ],
 "metadata": {
  "kernelspec": {
   "display_name": "Python 3",
   "language": "python",
   "name": "python3"
  },
  "language_info": {
   "codemirror_mode": {
    "name": "ipython",
    "version": 3
   },
   "file_extension": ".py",
   "mimetype": "text/x-python",
   "name": "python",
   "nbconvert_exporter": "python",
   "pygments_lexer": "ipython3",
   "version": "3.6.6"
  }
 },
 "nbformat": 4,
 "nbformat_minor": 2
}
